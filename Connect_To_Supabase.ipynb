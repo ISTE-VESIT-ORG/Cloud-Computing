{
  "nbformat": 4,
  "nbformat_minor": 0,
  "metadata": {
    "colab": {
      "name": "Connect To Supabase.ipynb",
      "provenance": [],
      "collapsed_sections": []
    },
    "kernelspec": {
      "name": "python3",
      "display_name": "Python 3"
    },
    "language_info": {
      "name": "python"
    }
  },
  "cells": [
    {
      "cell_type": "markdown",
      "source": [
        "### Installing python package"
      ],
      "metadata": {
        "id": "9Oa5tS3qXNPL"
      }
    },
    {
      "cell_type": "code",
      "source": [
        "pip install supabase"
      ],
      "metadata": {
        "colab": {
          "base_uri": "https://localhost:8080/"
        },
        "id": "i48n1PFwLJZy",
        "outputId": "740f0d6c-4dd1-46c2-a85a-fcc6087183a7"
      },
      "execution_count": null,
      "outputs": [
        {
          "output_type": "stream",
          "name": "stdout",
          "text": [
            "Collecting supabase\n",
            "  Downloading supabase-0.5.1-py3-none-any.whl (13 kB)\n",
            "Collecting httpx<0.22.0,>=0.21.3\n",
            "  Downloading httpx-0.21.3-py3-none-any.whl (83 kB)\n",
            "\u001b[?25l\r\u001b[K     |████                            | 10 kB 27.3 MB/s eta 0:00:01\r\u001b[K     |███████▉                        | 20 kB 15.1 MB/s eta 0:00:01\r\u001b[K     |███████████▊                    | 30 kB 13.9 MB/s eta 0:00:01\r\u001b[K     |███████████████▋                | 40 kB 13.2 MB/s eta 0:00:01\r\u001b[K     |███████████████████▌            | 51 kB 6.6 MB/s eta 0:00:01\r\u001b[K     |███████████████████████▌        | 61 kB 7.8 MB/s eta 0:00:01\r\u001b[K     |███████████████████████████▍    | 71 kB 8.1 MB/s eta 0:00:01\r\u001b[K     |███████████████████████████████▎| 81 kB 8.6 MB/s eta 0:00:01\r\u001b[K     |████████████████████████████████| 83 kB 2.3 MB/s \n",
            "\u001b[?25hCollecting gotrue<0.6.0,>=0.5.0\n",
            "  Downloading gotrue-0.5.0-py3-none-any.whl (23 kB)\n",
            "Collecting realtime<0.0.5,>=0.0.4\n",
            "  Downloading realtime-0.0.4-py3-none-any.whl (7.9 kB)\n",
            "Collecting postgrest-py<0.10.0,>=0.9.0\n",
            "  Downloading postgrest_py-0.9.0-py3-none-any.whl (13 kB)\n",
            "Collecting pydantic<2.0.0,>=1.9.0\n",
            "  Downloading pydantic-1.9.0-cp37-cp37m-manylinux_2_17_x86_64.manylinux2014_x86_64.whl (10.9 MB)\n",
            "\u001b[K     |████████████████████████████████| 10.9 MB 40.6 MB/s \n",
            "\u001b[?25hCollecting rfc3986[idna2008]<2,>=1.3\n",
            "  Downloading rfc3986-1.5.0-py2.py3-none-any.whl (31 kB)\n",
            "Requirement already satisfied: charset-normalizer in /usr/local/lib/python3.7/dist-packages (from httpx<0.22.0,>=0.21.3->supabase) (2.0.12)\n",
            "Collecting sniffio\n",
            "  Downloading sniffio-1.2.0-py3-none-any.whl (10 kB)\n",
            "Collecting httpcore<0.15.0,>=0.14.0\n",
            "  Downloading httpcore-0.14.7-py3-none-any.whl (68 kB)\n",
            "\u001b[K     |████████████████████████████████| 68 kB 7.5 MB/s \n",
            "\u001b[?25hRequirement already satisfied: certifi in /usr/local/lib/python3.7/dist-packages (from httpx<0.22.0,>=0.21.3->supabase) (2021.10.8)\n",
            "Collecting anyio==3.*\n",
            "  Downloading anyio-3.5.0-py3-none-any.whl (79 kB)\n",
            "\u001b[K     |████████████████████████████████| 79 kB 9.4 MB/s \n",
            "\u001b[?25hCollecting h11<0.13,>=0.11\n",
            "  Downloading h11-0.12.0-py3-none-any.whl (54 kB)\n",
            "\u001b[K     |████████████████████████████████| 54 kB 4.2 MB/s \n",
            "\u001b[?25hRequirement already satisfied: idna>=2.8 in /usr/local/lib/python3.7/dist-packages (from anyio==3.*->httpcore<0.15.0,>=0.14.0->httpx<0.22.0,>=0.21.3->supabase) (2.10)\n",
            "Requirement already satisfied: typing-extensions in /usr/local/lib/python3.7/dist-packages (from anyio==3.*->httpcore<0.15.0,>=0.14.0->httpx<0.22.0,>=0.21.3->supabase) (3.10.0.2)\n",
            "Collecting deprecation<3.0.0,>=2.1.0\n",
            "  Downloading deprecation-2.1.0-py2.py3-none-any.whl (11 kB)\n",
            "Requirement already satisfied: packaging in /usr/local/lib/python3.7/dist-packages (from deprecation<3.0.0,>=2.1.0->postgrest-py<0.10.0,>=0.9.0->supabase) (21.3)\n",
            "Collecting websockets<10.0,>=9.1\n",
            "  Downloading websockets-9.1-cp37-cp37m-manylinux2010_x86_64.whl (103 kB)\n",
            "\u001b[K     |████████████████████████████████| 103 kB 75.2 MB/s \n",
            "\u001b[?25hRequirement already satisfied: python-dateutil<3.0.0,>=2.8.1 in /usr/local/lib/python3.7/dist-packages (from realtime<0.0.5,>=0.0.4->supabase) (2.8.2)\n",
            "Requirement already satisfied: six>=1.5 in /usr/local/lib/python3.7/dist-packages (from python-dateutil<3.0.0,>=2.8.1->realtime<0.0.5,>=0.0.4->supabase) (1.15.0)\n",
            "Requirement already satisfied: pyparsing!=3.0.5,>=2.0.2 in /usr/local/lib/python3.7/dist-packages (from packaging->deprecation<3.0.0,>=2.1.0->postgrest-py<0.10.0,>=0.9.0->supabase) (3.0.7)\n",
            "Installing collected packages: sniffio, rfc3986, h11, anyio, httpcore, websockets, pydantic, httpx, deprecation, realtime, postgrest-py, gotrue, supabase\n",
            "Successfully installed anyio-3.5.0 deprecation-2.1.0 gotrue-0.5.0 h11-0.12.0 httpcore-0.14.7 httpx-0.21.3 postgrest-py-0.9.0 pydantic-1.9.0 realtime-0.0.4 rfc3986-1.5.0 sniffio-1.2.0 supabase-0.5.1 websockets-9.1\n"
          ]
        }
      ]
    },
    {
      "cell_type": "markdown",
      "source": [
        "### Importing library"
      ],
      "metadata": {
        "id": "1J7-j9VGXV4A"
      }
    },
    {
      "cell_type": "code",
      "source": [
        "from supabase import create_client, Client"
      ],
      "metadata": {
        "id": "kBjZFhgQKZ0Y"
      },
      "execution_count": null,
      "outputs": []
    },
    {
      "cell_type": "markdown",
      "source": [
        "### Setting the URL and API Key"
      ],
      "metadata": {
        "id": "9ggQaIt_XZ-y"
      }
    },
    {
      "cell_type": "code",
      "source": [
        "SUPABASE_URL = \"\"\n",
        "SUPABASE_KEY = \"\""
      ],
      "metadata": {
        "id": "evBtY3jSKo1O"
      },
      "execution_count": null,
      "outputs": []
    },
    {
      "cell_type": "markdown",
      "source": [
        "### Establish a connection using the URL and API Key"
      ],
      "metadata": {
        "id": "akjs4qneXf8d"
      }
    },
    {
      "cell_type": "code",
      "source": [
        "supabase = create_client(SUPABASE_URL, SUPABASE_KEY)"
      ],
      "metadata": {
        "id": "T92v3HdaK3H8"
      },
      "execution_count": null,
      "outputs": []
    },
    {
      "cell_type": "markdown",
      "source": [
        "### Retrieving Data"
      ],
      "metadata": {
        "id": "yqhhiCYQMO_9"
      }
    },
    {
      "cell_type": "code",
      "source": [
        "data = supabase.table(\"countries\").select(\"*\").execute()\n",
        "print(data)"
      ],
      "metadata": {
        "id": "N0bGgPCSLWCP",
        "colab": {
          "base_uri": "https://localhost:8080/"
        },
        "outputId": "91745abb-63aa-45dc-a149-8c185b4ae0e6"
      },
      "execution_count": null,
      "outputs": [
        {
          "output_type": "stream",
          "name": "stdout",
          "text": [
            "data=[{'id': 1, 'name': 'USA'}, {'id': 2, 'name': 'China'}, {'id': 3, 'name': 'India'}, {'id': 4, 'name': 'UK'}, {'id': 5, 'name': 'Russia'}] count=None\n"
          ]
        }
      ]
    },
    {
      "cell_type": "markdown",
      "source": [
        "### Inserting record"
      ],
      "metadata": {
        "id": "hQbBr_UPMR8a"
      }
    },
    {
      "cell_type": "code",
      "source": [
        "supabase.table(\"countries\").insert({\"id\":6, \"name\":\"Germany\"}).execute()"
      ],
      "metadata": {
        "colab": {
          "base_uri": "https://localhost:8080/"
        },
        "id": "31Dz4TKfMHe9",
        "outputId": "5226134a-fb4c-44b8-b0c4-143f521e7530"
      },
      "execution_count": null,
      "outputs": [
        {
          "output_type": "execute_result",
          "data": {
            "text/plain": [
              "APIResponse(data=[{'id': 6, 'name': 'Germany'}], count=None)"
            ]
          },
          "metadata": {},
          "execution_count": 6
        }
      ]
    },
    {
      "cell_type": "code",
      "source": [
        "data = supabase.table(\"countries\").select(\"*\").execute()\n",
        "print(data)"
      ],
      "metadata": {
        "colab": {
          "base_uri": "https://localhost:8080/"
        },
        "id": "aN7b3Mm4MsTU",
        "outputId": "6c3307c2-32a0-4fd0-f1c9-43974b062c1c"
      },
      "execution_count": null,
      "outputs": [
        {
          "output_type": "stream",
          "name": "stdout",
          "text": [
            "data=[{'id': 1, 'name': 'USA'}, {'id': 2, 'name': 'China'}, {'id': 3, 'name': 'India'}, {'id': 4, 'name': 'UK'}, {'id': 5, 'name': 'Russia'}, {'id': 6, 'name': 'Germany'}] count=None\n"
          ]
        }
      ]
    },
    {
      "cell_type": "markdown",
      "source": [
        "### Updating records"
      ],
      "metadata": {
        "id": "hhFpLD80MzrW"
      }
    },
    {
      "cell_type": "code",
      "source": [
        "supabase.table(\"countries\").update({\"name\": \"Australia\"}).eq(\"id\",6).execute()"
      ],
      "metadata": {
        "colab": {
          "base_uri": "https://localhost:8080/"
        },
        "id": "Zgwy7ASTMwy9",
        "outputId": "3ca6249a-4f3d-4636-93a6-30c059449ffb"
      },
      "execution_count": null,
      "outputs": [
        {
          "output_type": "execute_result",
          "data": {
            "text/plain": [
              "APIResponse(data=[{'id': 6, 'name': 'Australia'}], count=None)"
            ]
          },
          "metadata": {},
          "execution_count": 8
        }
      ]
    },
    {
      "cell_type": "code",
      "source": [
        "data = supabase.table(\"countries\").select(\"*\").execute()\n",
        "print(data)"
      ],
      "metadata": {
        "colab": {
          "base_uri": "https://localhost:8080/"
        },
        "id": "RKSj1cmXNn_s",
        "outputId": "9f064d76-6570-4356-d389-b29a642f722e"
      },
      "execution_count": null,
      "outputs": [
        {
          "output_type": "stream",
          "name": "stdout",
          "text": [
            "data=[{'id': 1, 'name': 'USA'}, {'id': 2, 'name': 'China'}, {'id': 3, 'name': 'India'}, {'id': 4, 'name': 'UK'}, {'id': 5, 'name': 'Russia'}, {'id': 6, 'name': 'Australia'}] count=None\n"
          ]
        }
      ]
    },
    {
      "cell_type": "markdown",
      "source": [
        "### Deleting Records"
      ],
      "metadata": {
        "id": "R1eLIeMJNtRK"
      }
    },
    {
      "cell_type": "code",
      "source": [
        "supabase.table(\"countries\").delete().eq(\"id\",6).execute()"
      ],
      "metadata": {
        "colab": {
          "base_uri": "https://localhost:8080/"
        },
        "id": "GriWacVFNpx7",
        "outputId": "5fda8827-c477-4a66-e1eb-1b21e8f8ab4a"
      },
      "execution_count": null,
      "outputs": [
        {
          "output_type": "execute_result",
          "data": {
            "text/plain": [
              "APIResponse(data=[{'id': 6, 'name': 'Australia'}], count=None)"
            ]
          },
          "metadata": {},
          "execution_count": 10
        }
      ]
    },
    {
      "cell_type": "code",
      "source": [
        "data = supabase.table(\"countries\").select(\"*\").execute()\n",
        "print(data)"
      ],
      "metadata": {
        "colab": {
          "base_uri": "https://localhost:8080/"
        },
        "id": "5eGwaluaN5AK",
        "outputId": "0ea68b34-85dc-447b-afa1-3ab35c455750"
      },
      "execution_count": null,
      "outputs": [
        {
          "output_type": "stream",
          "name": "stdout",
          "text": [
            "data=[{'id': 1, 'name': 'USA'}, {'id': 2, 'name': 'China'}, {'id': 3, 'name': 'India'}, {'id': 4, 'name': 'UK'}, {'id': 5, 'name': 'Russia'}] count=None\n"
          ]
        }
      ]
    }
  ]
}